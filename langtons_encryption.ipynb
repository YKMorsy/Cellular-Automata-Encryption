{
 "cells": [
  {
   "cell_type": "code",
   "execution_count": 22,
   "id": "b942bf41",
   "metadata": {},
   "outputs": [],
   "source": [
    "from vpython import *\n",
    "import numpy as np\n",
    "import random"
   ]
  },
  {
   "cell_type": "markdown",
   "id": "5c7e860f",
   "metadata": {},
   "source": [
    "# Initial Langton's Ant Simulation Verification"
   ]
  },
  {
   "cell_type": "markdown",
   "id": "c1d92fe1",
   "metadata": {},
   "source": [
    "## Functions"
   ]
  },
  {
   "cell_type": "code",
   "execution_count": 23,
   "id": "320940c0",
   "metadata": {},
   "outputs": [],
   "source": [
    "# Function to draw matrix\n",
    "def draw_matrix(matrix):\n",
    "    y = 0\n",
    "    for i in range(len(matrix)):\n",
    "        x = 0\n",
    "        for j in range(len(matrix[i])):\n",
    "            cell = box(pos = vector(x, y, 0), size = vector(1,1,1))\n",
    "            if matrix[i][j] == 0:\n",
    "                cell.color = color.white\n",
    "            elif matrix[i][j] == 1:\n",
    "                cell.color = color.red\n",
    "                \n",
    "            x += 1.25\n",
    "            \n",
    "        y -= 1.25"
   ]
  },
  {
   "cell_type": "code",
   "execution_count": 32,
   "id": "38dd9afe",
   "metadata": {},
   "outputs": [],
   "source": [
    "# Function to update matrix given game of life rules\n",
    "def update_matrix(matrix, pos, direction):\n",
    "    new_mat = matrix\n",
    "    new_pos = pos\n",
    "    new_direction = direction\n",
    "    \n",
    "    cur_value = new_mat[pos[0], pos[1]]\n",
    "    \n",
    "    # update direction\n",
    "    if cur_value == 0:\n",
    "        # rotate right\n",
    "        new_direction = (new_direction + 1) % 4\n",
    "        # update matrix\n",
    "        new_mat[pos[0], pos[1]] = 1\n",
    "    else:\n",
    "        # rotate left\n",
    "        new_direction = (new_direction - 1) % 4\n",
    "        # update matrix\n",
    "        new_mat[pos[0], pos[1]] = 0       \n",
    "\n",
    "    \n",
    "    # move pos based on direction\n",
    "    if new_direction == 0:\n",
    "        new_pos[0] = (new_pos[0] - 1) % new_mat.shape[0]\n",
    "    elif new_direction == 1:\n",
    "        new_pos[1] = (new_pos[1] + 1) % new_mat.shape[1]\n",
    "    elif new_direction == 2:\n",
    "        new_pos[0] = (new_pos[0] + 1) % new_mat.shape[0]\n",
    "    elif new_direction == 3:\n",
    "        new_pos[1] = (new_pos[1] - 1) % new_mat.shape[1]\n",
    "    \n",
    "    return (new_mat, new_pos, new_direction)"
   ]
  },
  {
   "cell_type": "markdown",
   "id": "ed479b6f",
   "metadata": {},
   "source": [
    "## Simulation of Emergent Behaviors"
   ]
  },
  {
   "cell_type": "markdown",
   "id": "743806ed",
   "metadata": {},
   "source": [
    "### Simplicity"
   ]
  },
  {
   "cell_type": "code",
   "execution_count": 6,
   "id": "8e89cfd0",
   "metadata": {},
   "outputs": [
    {
     "data": {
      "text/html": [
       "<div id=\"glowscript\" class=\"glowscript\"></div>"
      ],
      "text/plain": [
       "<IPython.core.display.HTML object>"
      ]
     },
     "metadata": {},
     "output_type": "display_data"
    },
    {
     "data": {
      "application/javascript": [
       "if (typeof Jupyter !== \"undefined\") { window.__context = { glowscript_container: $(\"#glowscript\").removeAttr(\"id\")};}else{ element.textContent = ' ';}"
      ],
      "text/plain": [
       "<IPython.core.display.Javascript object>"
      ]
     },
     "metadata": {},
     "output_type": "display_data"
    }
   ],
   "source": [
    "scene = canvas()\n",
    "\n",
    "# initialize values\n",
    "row = 10; col = 10\n",
    "matrix = np.zeros((row, col))\n",
    "pos = [random.randint(0, row-1), random.randint(0, col-1)]\n",
    "direction = 0\n",
    "\n",
    "# draw\n",
    "draw_matrix(matrix)\n",
    "\n",
    "num_steps = 1000\n",
    "\n",
    "# Main loop\n",
    "for i in range(num_steps):\n",
    "    rate(20)\n",
    "    # update\n",
    "    matrix, pos, direction = update_matrix(matrix, pos, direction)\n",
    "    # draw\n",
    "    draw_matrix(matrix)"
   ]
  },
  {
   "cell_type": "markdown",
   "id": "836be166",
   "metadata": {},
   "source": [
    "### Chaos - long run time"
   ]
  },
  {
   "cell_type": "code",
   "execution_count": 6,
   "id": "23f7eb69",
   "metadata": {},
   "outputs": [
    {
     "data": {
      "text/html": [
       "<div id=\"glowscript\" class=\"glowscript\"></div>"
      ],
      "text/plain": [
       "<IPython.core.display.HTML object>"
      ]
     },
     "metadata": {},
     "output_type": "display_data"
    },
    {
     "data": {
      "application/javascript": [
       "if (typeof Jupyter !== \"undefined\") { window.__context = { glowscript_container: $(\"#glowscript\").removeAttr(\"id\")};}else{ element.textContent = ' ';}"
      ],
      "text/plain": [
       "<IPython.core.display.Javascript object>"
      ]
     },
     "metadata": {},
     "output_type": "display_data"
    }
   ],
   "source": [
    "scene = canvas()\n",
    "\n",
    "# initialize values\n",
    "row = 10; col = 10\n",
    "matrix = np.zeros((row, col))\n",
    "pos = [random.randint(0, row-1), random.randint(0, col-1)]\n",
    "direction = 0\n",
    "\n",
    "# draw\n",
    "draw_matrix(matrix)\n",
    "\n",
    "num_steps = 20000\n",
    "\n",
    "# Main loop\n",
    "for i in range(num_steps):\n",
    "    # update\n",
    "    matrix, pos, direction = update_matrix(matrix, pos, direction)\n",
    "    # draw\n",
    "    draw_matrix(matrix)"
   ]
  },
  {
   "cell_type": "markdown",
   "id": "9d7e0272",
   "metadata": {},
   "source": [
    "### Emergent (Highway) - VERY long run time"
   ]
  },
  {
   "cell_type": "code",
   "execution_count": null,
   "id": "7e8edadf",
   "metadata": {},
   "outputs": [],
   "source": [
    "scene = canvas()\n",
    "\n",
    "# initialize values\n",
    "row = 10; col = 10\n",
    "matrix = np.zeros((row, col))\n",
    "pos = [random.randint(0, row-1), random.randint(0, col-1)]\n",
    "direction = 0\n",
    "\n",
    "# draw\n",
    "draw_matrix(matrix)\n",
    "\n",
    "num_steps = 50000\n",
    "\n",
    "# Main loop\n",
    "for i in range(num_steps):\n",
    "    # update\n",
    "    matrix, pos, direction = update_matrix(matrix, pos, direction)\n",
    "    # draw\n",
    "    draw_matrix(matrix)"
   ]
  },
  {
   "cell_type": "markdown",
   "id": "5a66c8da",
   "metadata": {},
   "source": [
    "# User Input for Message and Key"
   ]
  },
  {
   "cell_type": "code",
   "execution_count": 25,
   "id": "b40d911f",
   "metadata": {},
   "outputs": [],
   "source": [
    "# Input message\n",
    "m_row = 10; m_col = 10\n",
    "message_matrix = np.random.randint(2, size=(m_row, m_col))\n",
    "\n",
    "# Key\n",
    "# User values\n",
    "key_obstacles = [[3, 6], [7, 2], [3, 1], [0, 9], [7, 2]]\n",
    "key_iterations = 3000\n",
    "key_direction = 2 # 0 to 3\n",
    "key_position = [4, 2]"
   ]
  },
  {
   "cell_type": "markdown",
   "id": "87b3d7f5",
   "metadata": {},
   "source": [
    "# Encryption"
   ]
  },
  {
   "cell_type": "code",
   "execution_count": 26,
   "id": "f24e7c67",
   "metadata": {},
   "outputs": [],
   "source": [
    "obstacles = key_obstacles\n",
    "iterations = key_iterations\n",
    "direction = key_direction\n",
    "position = key_position\n",
    "\n",
    "key_matrix = np.zeros((m_row, m_col))\n",
    "# Set the obstacles indices to 1 in the matrix\n",
    "for i, j in obstacles:\n",
    "    key_matrix[i][j] = 1\n",
    "\n",
    "# Key creation\n",
    "for i in range(iterations):\n",
    "    # update\n",
    "    key_matrix, position, direction = update_matrix(key_matrix, position, direction)\n",
    "\n",
    "\n",
    "# Encryption\n",
    "key_matrix = key_matrix.astype(int)\n",
    "encrypted_matrix = np.bitwise_xor(message_matrix, key_matrix)\n"
   ]
  },
  {
   "cell_type": "markdown",
   "id": "7ef5308e",
   "metadata": {},
   "source": [
    "# Decryption"
   ]
  },
  {
   "cell_type": "code",
   "execution_count": 33,
   "id": "51defd45",
   "metadata": {},
   "outputs": [],
   "source": [
    "obstacles = key_obstacles\n",
    "iterations = key_iterations\n",
    "direction = key_direction\n",
    "position = key_position\n",
    "\n",
    "key_matrix = np.zeros((m_row, m_col))\n",
    "# Set the obstacles indices to 1 in the matrix\n",
    "for i, j in obstacles:\n",
    "    key_matrix[i][j] = 1\n",
    "\n",
    "# Key creation\n",
    "for i in range(iterations):\n",
    "    # update\n",
    "    key_matrix, position, direction = update_matrix(key_matrix, position, direction)\n",
    "\n",
    "# Decryption\n",
    "key_matrix = key_matrix.astype(int)\n",
    "decrypted_message = np.bitwise_xor(encrypted_matrix, key_matrix)"
   ]
  },
  {
   "cell_type": "markdown",
   "id": "04c712e0",
   "metadata": {},
   "source": [
    "# Verification"
   ]
  },
  {
   "cell_type": "code",
   "execution_count": 37,
   "id": "0f0ccb87",
   "metadata": {},
   "outputs": [],
   "source": [
    "assert(decrypted_message.all() == message_matrix.all())"
   ]
  },
  {
   "cell_type": "markdown",
   "id": "fccb97aa",
   "metadata": {},
   "source": [
    "# Changing key slightly and attempt decryption"
   ]
  },
  {
   "cell_type": "code",
   "execution_count": 38,
   "id": "a736ad46",
   "metadata": {},
   "outputs": [],
   "source": [
    "obstacles = key_obstacles\n",
    "iterations = key_iterations\n",
    "direction = (key_direction + 1) % 4\n",
    "position = key_position\n",
    "\n",
    "key_matrix = np.zeros((m_row, m_col))\n",
    "# Set the obstacles indices to 1 in the matrix\n",
    "for i, j in obstacles:\n",
    "    key_matrix[i][j] = 1\n",
    "\n",
    "# Key creation\n",
    "for i in range(iterations):\n",
    "    # update\n",
    "    key_matrix, position, direction = update_matrix(key_matrix, position, direction)\n",
    "\n",
    "# Decryption\n",
    "key_matrix = key_matrix.astype(int)\n",
    "decrypted_message = np.bitwise_xor(encrypted_matrix, key_matrix)"
   ]
  },
  {
   "cell_type": "markdown",
   "id": "0ee284a0",
   "metadata": {},
   "source": [
    "# Verification"
   ]
  },
  {
   "cell_type": "code",
   "execution_count": 40,
   "id": "ab8f4c3a",
   "metadata": {},
   "outputs": [
    {
     "ename": "AssertionError",
     "evalue": "",
     "output_type": "error",
     "traceback": [
      "\u001b[1;31m---------------------------------------------------------------------------\u001b[0m",
      "\u001b[1;31mAssertionError\u001b[0m                            Traceback (most recent call last)",
      "Cell \u001b[1;32mIn[40], line 1\u001b[0m\n\u001b[1;32m----> 1\u001b[0m \u001b[38;5;28;01massert\u001b[39;00m(decrypted_message\u001b[38;5;241m.\u001b[39mall() \u001b[38;5;241m!=\u001b[39m message_matrix\u001b[38;5;241m.\u001b[39mall())\n",
      "\u001b[1;31mAssertionError\u001b[0m: "
     ]
    }
   ],
   "source": [
    "assert(decrypted_message.all() != message_matrix.all())"
   ]
  },
  {
   "cell_type": "code",
   "execution_count": 43,
   "id": "878e7f3f",
   "metadata": {},
   "outputs": [
    {
     "name": "stdout",
     "output_type": "stream",
     "text": [
      "[[0 0 1 1 0 0 1 0 1 1]\n",
      " [0 1 0 1 0 1 1 1 0 0]\n",
      " [0 1 1 0 1 0 1 1 0 1]\n",
      " [0 0 0 1 1 1 0 1 0 0]\n",
      " [1 0 0 1 1 1 1 0 1 0]\n",
      " [0 1 0 1 0 1 1 1 0 1]\n",
      " [1 1 0 0 0 1 0 1 0 0]\n",
      " [0 0 0 1 0 0 1 1 0 0]\n",
      " [0 1 1 1 1 1 0 0 0 1]\n",
      " [0 0 0 0 1 0 0 0 1 0]]\n",
      "[[1 0 1 1 1 1 0 1 0 1]\n",
      " [0 1 1 1 0 0 1 0 0 1]\n",
      " [1 1 0 1 1 0 0 1 0 1]\n",
      " [1 0 1 0 0 0 0 1 0 1]\n",
      " [1 0 0 0 1 0 0 1 1 0]\n",
      " [0 1 1 0 0 0 0 0 0 0]\n",
      " [0 0 0 0 1 1 1 1 0 0]\n",
      " [0 0 0 0 1 1 0 1 0 0]\n",
      " [0 1 0 0 0 1 1 1 0 0]\n",
      " [1 1 0 0 0 0 1 1 0 0]]\n"
     ]
    }
   ],
   "source": [
    "print(message_matrix)\n",
    "print(decrypted_message)"
   ]
  },
  {
   "cell_type": "markdown",
   "id": "aa98d69f",
   "metadata": {},
   "source": [
    "As show, the matrices are very differnt"
   ]
  }
 ],
 "metadata": {
  "kernelspec": {
   "display_name": "Python 3 (ipykernel)",
   "language": "python",
   "name": "python3"
  },
  "language_info": {
   "codemirror_mode": {
    "name": "ipython",
    "version": 3
   },
   "file_extension": ".py",
   "mimetype": "text/x-python",
   "name": "python",
   "nbconvert_exporter": "python",
   "pygments_lexer": "ipython3",
   "version": "3.10.10"
  }
 },
 "nbformat": 4,
 "nbformat_minor": 5
}
